{
 "cells": [
  {
   "cell_type": "code",
   "execution_count": 267,
   "id": "44ce4388-315d-482b-90ff-587daec631a8",
   "metadata": {},
   "outputs": [],
   "source": [
    "import pandas as pd"
   ]
  },
  {
   "cell_type": "code",
   "execution_count": 268,
   "id": "2cb91d05-fba4-4ffc-9141-b835562af970",
   "metadata": {},
   "outputs": [],
   "source": [
    "data_frame = pd.read_csv(\"nba_games.csv\", index_col = 0)"
   ]
  },
  {
   "cell_type": "code",
   "execution_count": 269,
   "id": "22c9820f-f9d7-41ae-a1af-c5e7ec415b00",
   "metadata": {},
   "outputs": [],
   "source": [
    "data_frame = data_frame.sort_values(\"date\")"
   ]
  },
  {
   "cell_type": "code",
   "execution_count": 270,
   "id": "68e38713-9a0a-4086-a6f9-0f0e4e9ff037",
   "metadata": {},
   "outputs": [],
   "source": [
    "data_frame = data_frame.reset_index(drop=True)"
   ]
  },
  {
   "cell_type": "code",
   "execution_count": 271,
   "id": "50934499-8027-442a-a04a-04647dc82cf6",
   "metadata": {},
   "outputs": [],
   "source": [
    "del data_frame[\"mp.1\"]\n",
    "del data_frame[\"mp_opp.1\"]\n",
    "del data_frame[\"index_opp\"]"
   ]
  },
  {
   "cell_type": "code",
   "execution_count": 272,
   "id": "efe29ff0-30ab-4cb7-b865-50d898fdab19",
   "metadata": {},
   "outputs": [
    {
     "name": "stderr",
     "output_type": "stream",
     "text": [
      "C:\\Users\\sidhu\\AppData\\Local\\Temp\\ipykernel_16500\\531162783.py:2: PerformanceWarning: DataFrame is highly fragmented.  This is usually the result of calling `frame.insert` many times, which has poor performance.  Consider joining all columns at once using pd.concat(axis=1) instead. To get a de-fragmented frame, use `newframe = frame.copy()`\n",
      "  team[\"target\"] = team[\"won\"].shift(-1)\n",
      "C:\\Users\\sidhu\\AppData\\Local\\Temp\\ipykernel_16500\\531162783.py:2: PerformanceWarning: DataFrame is highly fragmented.  This is usually the result of calling `frame.insert` many times, which has poor performance.  Consider joining all columns at once using pd.concat(axis=1) instead. To get a de-fragmented frame, use `newframe = frame.copy()`\n",
      "  team[\"target\"] = team[\"won\"].shift(-1)\n",
      "C:\\Users\\sidhu\\AppData\\Local\\Temp\\ipykernel_16500\\531162783.py:2: PerformanceWarning: DataFrame is highly fragmented.  This is usually the result of calling `frame.insert` many times, which has poor performance.  Consider joining all columns at once using pd.concat(axis=1) instead. To get a de-fragmented frame, use `newframe = frame.copy()`\n",
      "  team[\"target\"] = team[\"won\"].shift(-1)\n",
      "C:\\Users\\sidhu\\AppData\\Local\\Temp\\ipykernel_16500\\531162783.py:2: PerformanceWarning: DataFrame is highly fragmented.  This is usually the result of calling `frame.insert` many times, which has poor performance.  Consider joining all columns at once using pd.concat(axis=1) instead. To get a de-fragmented frame, use `newframe = frame.copy()`\n",
      "  team[\"target\"] = team[\"won\"].shift(-1)\n",
      "C:\\Users\\sidhu\\AppData\\Local\\Temp\\ipykernel_16500\\531162783.py:2: PerformanceWarning: DataFrame is highly fragmented.  This is usually the result of calling `frame.insert` many times, which has poor performance.  Consider joining all columns at once using pd.concat(axis=1) instead. To get a de-fragmented frame, use `newframe = frame.copy()`\n",
      "  team[\"target\"] = team[\"won\"].shift(-1)\n",
      "C:\\Users\\sidhu\\AppData\\Local\\Temp\\ipykernel_16500\\531162783.py:2: PerformanceWarning: DataFrame is highly fragmented.  This is usually the result of calling `frame.insert` many times, which has poor performance.  Consider joining all columns at once using pd.concat(axis=1) instead. To get a de-fragmented frame, use `newframe = frame.copy()`\n",
      "  team[\"target\"] = team[\"won\"].shift(-1)\n",
      "C:\\Users\\sidhu\\AppData\\Local\\Temp\\ipykernel_16500\\531162783.py:2: PerformanceWarning: DataFrame is highly fragmented.  This is usually the result of calling `frame.insert` many times, which has poor performance.  Consider joining all columns at once using pd.concat(axis=1) instead. To get a de-fragmented frame, use `newframe = frame.copy()`\n",
      "  team[\"target\"] = team[\"won\"].shift(-1)\n",
      "C:\\Users\\sidhu\\AppData\\Local\\Temp\\ipykernel_16500\\531162783.py:2: PerformanceWarning: DataFrame is highly fragmented.  This is usually the result of calling `frame.insert` many times, which has poor performance.  Consider joining all columns at once using pd.concat(axis=1) instead. To get a de-fragmented frame, use `newframe = frame.copy()`\n",
      "  team[\"target\"] = team[\"won\"].shift(-1)\n",
      "C:\\Users\\sidhu\\AppData\\Local\\Temp\\ipykernel_16500\\531162783.py:2: PerformanceWarning: DataFrame is highly fragmented.  This is usually the result of calling `frame.insert` many times, which has poor performance.  Consider joining all columns at once using pd.concat(axis=1) instead. To get a de-fragmented frame, use `newframe = frame.copy()`\n",
      "  team[\"target\"] = team[\"won\"].shift(-1)\n",
      "C:\\Users\\sidhu\\AppData\\Local\\Temp\\ipykernel_16500\\531162783.py:2: PerformanceWarning: DataFrame is highly fragmented.  This is usually the result of calling `frame.insert` many times, which has poor performance.  Consider joining all columns at once using pd.concat(axis=1) instead. To get a de-fragmented frame, use `newframe = frame.copy()`\n",
      "  team[\"target\"] = team[\"won\"].shift(-1)\n",
      "C:\\Users\\sidhu\\AppData\\Local\\Temp\\ipykernel_16500\\531162783.py:2: PerformanceWarning: DataFrame is highly fragmented.  This is usually the result of calling `frame.insert` many times, which has poor performance.  Consider joining all columns at once using pd.concat(axis=1) instead. To get a de-fragmented frame, use `newframe = frame.copy()`\n",
      "  team[\"target\"] = team[\"won\"].shift(-1)\n",
      "C:\\Users\\sidhu\\AppData\\Local\\Temp\\ipykernel_16500\\531162783.py:2: PerformanceWarning: DataFrame is highly fragmented.  This is usually the result of calling `frame.insert` many times, which has poor performance.  Consider joining all columns at once using pd.concat(axis=1) instead. To get a de-fragmented frame, use `newframe = frame.copy()`\n",
      "  team[\"target\"] = team[\"won\"].shift(-1)\n",
      "C:\\Users\\sidhu\\AppData\\Local\\Temp\\ipykernel_16500\\531162783.py:2: PerformanceWarning: DataFrame is highly fragmented.  This is usually the result of calling `frame.insert` many times, which has poor performance.  Consider joining all columns at once using pd.concat(axis=1) instead. To get a de-fragmented frame, use `newframe = frame.copy()`\n",
      "  team[\"target\"] = team[\"won\"].shift(-1)\n",
      "C:\\Users\\sidhu\\AppData\\Local\\Temp\\ipykernel_16500\\531162783.py:2: PerformanceWarning: DataFrame is highly fragmented.  This is usually the result of calling `frame.insert` many times, which has poor performance.  Consider joining all columns at once using pd.concat(axis=1) instead. To get a de-fragmented frame, use `newframe = frame.copy()`\n",
      "  team[\"target\"] = team[\"won\"].shift(-1)\n",
      "C:\\Users\\sidhu\\AppData\\Local\\Temp\\ipykernel_16500\\531162783.py:2: PerformanceWarning: DataFrame is highly fragmented.  This is usually the result of calling `frame.insert` many times, which has poor performance.  Consider joining all columns at once using pd.concat(axis=1) instead. To get a de-fragmented frame, use `newframe = frame.copy()`\n",
      "  team[\"target\"] = team[\"won\"].shift(-1)\n",
      "C:\\Users\\sidhu\\AppData\\Local\\Temp\\ipykernel_16500\\531162783.py:2: PerformanceWarning: DataFrame is highly fragmented.  This is usually the result of calling `frame.insert` many times, which has poor performance.  Consider joining all columns at once using pd.concat(axis=1) instead. To get a de-fragmented frame, use `newframe = frame.copy()`\n",
      "  team[\"target\"] = team[\"won\"].shift(-1)\n",
      "C:\\Users\\sidhu\\AppData\\Local\\Temp\\ipykernel_16500\\531162783.py:2: PerformanceWarning: DataFrame is highly fragmented.  This is usually the result of calling `frame.insert` many times, which has poor performance.  Consider joining all columns at once using pd.concat(axis=1) instead. To get a de-fragmented frame, use `newframe = frame.copy()`\n",
      "  team[\"target\"] = team[\"won\"].shift(-1)\n",
      "C:\\Users\\sidhu\\AppData\\Local\\Temp\\ipykernel_16500\\531162783.py:2: PerformanceWarning: DataFrame is highly fragmented.  This is usually the result of calling `frame.insert` many times, which has poor performance.  Consider joining all columns at once using pd.concat(axis=1) instead. To get a de-fragmented frame, use `newframe = frame.copy()`\n",
      "  team[\"target\"] = team[\"won\"].shift(-1)\n",
      "C:\\Users\\sidhu\\AppData\\Local\\Temp\\ipykernel_16500\\531162783.py:2: PerformanceWarning: DataFrame is highly fragmented.  This is usually the result of calling `frame.insert` many times, which has poor performance.  Consider joining all columns at once using pd.concat(axis=1) instead. To get a de-fragmented frame, use `newframe = frame.copy()`\n",
      "  team[\"target\"] = team[\"won\"].shift(-1)\n",
      "C:\\Users\\sidhu\\AppData\\Local\\Temp\\ipykernel_16500\\531162783.py:2: PerformanceWarning: DataFrame is highly fragmented.  This is usually the result of calling `frame.insert` many times, which has poor performance.  Consider joining all columns at once using pd.concat(axis=1) instead. To get a de-fragmented frame, use `newframe = frame.copy()`\n",
      "  team[\"target\"] = team[\"won\"].shift(-1)\n",
      "C:\\Users\\sidhu\\AppData\\Local\\Temp\\ipykernel_16500\\531162783.py:2: PerformanceWarning: DataFrame is highly fragmented.  This is usually the result of calling `frame.insert` many times, which has poor performance.  Consider joining all columns at once using pd.concat(axis=1) instead. To get a de-fragmented frame, use `newframe = frame.copy()`\n",
      "  team[\"target\"] = team[\"won\"].shift(-1)\n",
      "C:\\Users\\sidhu\\AppData\\Local\\Temp\\ipykernel_16500\\531162783.py:2: PerformanceWarning: DataFrame is highly fragmented.  This is usually the result of calling `frame.insert` many times, which has poor performance.  Consider joining all columns at once using pd.concat(axis=1) instead. To get a de-fragmented frame, use `newframe = frame.copy()`\n",
      "  team[\"target\"] = team[\"won\"].shift(-1)\n",
      "C:\\Users\\sidhu\\AppData\\Local\\Temp\\ipykernel_16500\\531162783.py:2: PerformanceWarning: DataFrame is highly fragmented.  This is usually the result of calling `frame.insert` many times, which has poor performance.  Consider joining all columns at once using pd.concat(axis=1) instead. To get a de-fragmented frame, use `newframe = frame.copy()`\n",
      "  team[\"target\"] = team[\"won\"].shift(-1)\n",
      "C:\\Users\\sidhu\\AppData\\Local\\Temp\\ipykernel_16500\\531162783.py:2: PerformanceWarning: DataFrame is highly fragmented.  This is usually the result of calling `frame.insert` many times, which has poor performance.  Consider joining all columns at once using pd.concat(axis=1) instead. To get a de-fragmented frame, use `newframe = frame.copy()`\n",
      "  team[\"target\"] = team[\"won\"].shift(-1)\n",
      "C:\\Users\\sidhu\\AppData\\Local\\Temp\\ipykernel_16500\\531162783.py:2: PerformanceWarning: DataFrame is highly fragmented.  This is usually the result of calling `frame.insert` many times, which has poor performance.  Consider joining all columns at once using pd.concat(axis=1) instead. To get a de-fragmented frame, use `newframe = frame.copy()`\n",
      "  team[\"target\"] = team[\"won\"].shift(-1)\n",
      "C:\\Users\\sidhu\\AppData\\Local\\Temp\\ipykernel_16500\\531162783.py:2: PerformanceWarning: DataFrame is highly fragmented.  This is usually the result of calling `frame.insert` many times, which has poor performance.  Consider joining all columns at once using pd.concat(axis=1) instead. To get a de-fragmented frame, use `newframe = frame.copy()`\n",
      "  team[\"target\"] = team[\"won\"].shift(-1)\n",
      "C:\\Users\\sidhu\\AppData\\Local\\Temp\\ipykernel_16500\\531162783.py:2: PerformanceWarning: DataFrame is highly fragmented.  This is usually the result of calling `frame.insert` many times, which has poor performance.  Consider joining all columns at once using pd.concat(axis=1) instead. To get a de-fragmented frame, use `newframe = frame.copy()`\n",
      "  team[\"target\"] = team[\"won\"].shift(-1)\n",
      "C:\\Users\\sidhu\\AppData\\Local\\Temp\\ipykernel_16500\\531162783.py:2: PerformanceWarning: DataFrame is highly fragmented.  This is usually the result of calling `frame.insert` many times, which has poor performance.  Consider joining all columns at once using pd.concat(axis=1) instead. To get a de-fragmented frame, use `newframe = frame.copy()`\n",
      "  team[\"target\"] = team[\"won\"].shift(-1)\n",
      "C:\\Users\\sidhu\\AppData\\Local\\Temp\\ipykernel_16500\\531162783.py:2: PerformanceWarning: DataFrame is highly fragmented.  This is usually the result of calling `frame.insert` many times, which has poor performance.  Consider joining all columns at once using pd.concat(axis=1) instead. To get a de-fragmented frame, use `newframe = frame.copy()`\n",
      "  team[\"target\"] = team[\"won\"].shift(-1)\n",
      "C:\\Users\\sidhu\\AppData\\Local\\Temp\\ipykernel_16500\\531162783.py:2: PerformanceWarning: DataFrame is highly fragmented.  This is usually the result of calling `frame.insert` many times, which has poor performance.  Consider joining all columns at once using pd.concat(axis=1) instead. To get a de-fragmented frame, use `newframe = frame.copy()`\n",
      "  team[\"target\"] = team[\"won\"].shift(-1)\n",
      "C:\\Users\\sidhu\\AppData\\Local\\Temp\\ipykernel_16500\\531162783.py:5: DeprecationWarning: DataFrameGroupBy.apply operated on the grouping columns. This behavior is deprecated, and in a future version of pandas the grouping columns will be excluded from the operation. Either pass `include_groups=False` to exclude the groupings or explicitly select the grouping columns after groupby to silence this warning.\n",
      "  data_frame = data_frame.groupby(\"team\", group_keys=False).apply(add_target)\n"
     ]
    }
   ],
   "source": [
    "def add_target(team):\n",
    "    team[\"target\"] = team[\"won\"].shift(-1)\n",
    "    return team\n",
    "\n",
    "data_frame = data_frame.groupby(\"team\", group_keys=False).apply(add_target)"
   ]
  },
  {
   "cell_type": "code",
   "execution_count": 273,
   "id": "aef3a261-e7bf-4c46-a6f1-dcb34ccca3ba",
   "metadata": {},
   "outputs": [
    {
     "name": "stderr",
     "output_type": "stream",
     "text": [
      "C:\\Users\\sidhu\\AppData\\Local\\Temp\\ipykernel_16500\\2906054394.py:1: FutureWarning: ChainedAssignmentError: behaviour will change in pandas 3.0!\n",
      "You are setting values through chained assignment. Currently this works in certain cases, but when using Copy-on-Write (which will become the default behaviour in pandas 3.0) this will never work to update the original DataFrame or Series, because the intermediate object on which we are setting values will behave as a copy.\n",
      "A typical example is when you are setting values in a column of a DataFrame, like:\n",
      "\n",
      "df[\"col\"][row_indexer] = value\n",
      "\n",
      "Use `df.loc[row_indexer, \"col\"] = values` instead, to perform the assignment in a single step and ensure this keeps updating the original `df`.\n",
      "\n",
      "See the caveats in the documentation: https://pandas.pydata.org/pandas-docs/stable/user_guide/indexing.html#returning-a-view-versus-a-copy\n",
      "\n",
      "  data_frame[\"target\"][pd.isnull(data_frame[\"target\"])] = 2\n",
      "C:\\Users\\sidhu\\AppData\\Local\\Temp\\ipykernel_16500\\2906054394.py:1: SettingWithCopyWarning: \n",
      "A value is trying to be set on a copy of a slice from a DataFrame\n",
      "\n",
      "See the caveats in the documentation: https://pandas.pydata.org/pandas-docs/stable/user_guide/indexing.html#returning-a-view-versus-a-copy\n",
      "  data_frame[\"target\"][pd.isnull(data_frame[\"target\"])] = 2\n"
     ]
    }
   ],
   "source": [
    "data_frame[\"target\"][pd.isnull(data_frame[\"target\"])] = 2"
   ]
  },
  {
   "cell_type": "code",
   "execution_count": 274,
   "id": "e9d7dbd7-11c3-40e4-8baa-b1429e824c28",
   "metadata": {},
   "outputs": [],
   "source": [
    "data_frame[\"target\"] = data_frame[\"target\"].astype(int, errors=\"ignore\")"
   ]
  },
  {
   "cell_type": "code",
   "execution_count": 275,
   "id": "fbb4ad35-ba0a-4346-9597-bd1e9ea15edf",
   "metadata": {},
   "outputs": [
    {
     "data": {
      "text/plain": [
       "won\n",
       "False    8886\n",
       "True     8886\n",
       "Name: count, dtype: int64"
      ]
     },
     "execution_count": 275,
     "metadata": {},
     "output_type": "execute_result"
    }
   ],
   "source": [
    "data_frame[\"won\"].value_counts()"
   ]
  },
  {
   "cell_type": "code",
   "execution_count": 276,
   "id": "d2f68358-b7a4-4828-9881-df9ef446a4f6",
   "metadata": {},
   "outputs": [
    {
     "data": {
      "text/plain": [
       "target\n",
       "1    8872\n",
       "0    8870\n",
       "2      30\n",
       "Name: count, dtype: int64"
      ]
     },
     "execution_count": 276,
     "metadata": {},
     "output_type": "execute_result"
    }
   ],
   "source": [
    "data_frame[\"target\"].value_counts()"
   ]
  },
  {
   "cell_type": "code",
   "execution_count": 277,
   "id": "015f7537-812c-460e-bf9b-3fac8859a24c",
   "metadata": {},
   "outputs": [],
   "source": [
    "nulls = pd.isnull(data_frame).sum()"
   ]
  },
  {
   "cell_type": "code",
   "execution_count": 278,
   "id": "ab9ed641-a1df-4df1-8004-ff5b235e0702",
   "metadata": {},
   "outputs": [],
   "source": [
    "valid_columns = data_frame.columns[~data_frame.columns.isin(nulls[nulls > 0].index)]"
   ]
  },
  {
   "cell_type": "code",
   "execution_count": 279,
   "id": "b4504b16-a2f1-40aa-8a54-475fa5f5dd3a",
   "metadata": {},
   "outputs": [],
   "source": [
    "data_frame = data_frame[valid_columns].copy()"
   ]
  },
  {
   "cell_type": "code",
   "execution_count": 280,
   "id": "9708d2ae-fb9a-48f3-888d-43d2eeef1c7f",
   "metadata": {},
   "outputs": [],
   "source": [
    "from sklearn.model_selection import TimeSeriesSplit\n",
    "from sklearn.ensemble import GradientBoostingClassifier\n",
    "from sklearn.linear_model import RidgeClassifier\n",
    "\n",
    "\n",
    "ridge= RidgeClassifier(alpha=1)\n",
    "split = TimeSeriesSplit(n_splits=3)\n",
    "gradient_booster = GradientBoostingClassifier(n_estimators=100, learning_rate=0.1, max_depth=3, random_state=42)"
   ]
  },
  {
   "cell_type": "code",
   "execution_count": 281,
   "id": "90132e9c-afbf-4e30-a82b-8f67f460820d",
   "metadata": {},
   "outputs": [],
   "source": [
    "removed_columns = [\"season\", \"date\", \"won\", \"target\", \"team\", \"team_opp\"]"
   ]
  },
  {
   "cell_type": "code",
   "execution_count": 282,
   "id": "8c759549-5af6-4300-80a0-c67f629177db",
   "metadata": {},
   "outputs": [],
   "source": [
    "selected_columns = data_frame.columns[~data_frame.columns.isin(removed_columns)]"
   ]
  },
  {
   "cell_type": "code",
   "execution_count": 283,
   "id": "b612a2f3-11a7-4bb9-90a3-bb22572196b0",
   "metadata": {},
   "outputs": [],
   "source": [
    "from sklearn.preprocessing import StandardScaler\n",
    "\n",
    "scaler = StandardScaler()\n",
    "data_frame[selected_columns] = scaler.fit_transform(data_frame[selected_columns])"
   ]
  },
  {
   "cell_type": "code",
   "execution_count": 284,
   "id": "478a6822-7e06-4f80-82c5-02bc8748419a",
   "metadata": {},
   "outputs": [],
   "source": [
    "predictors = selected_columns"
   ]
  },
  {
   "cell_type": "code",
   "execution_count": 285,
   "id": "6d8eff91-4c7e-428f-a584-e238996301dd",
   "metadata": {},
   "outputs": [],
   "source": [
    "def backtest(data, model, predictors, start=2, step=1):\n",
    "    predictions = []\n",
    "    seasons = sorted(data[\"season\"].unique())\n",
    "    for i in range(start, len(seasons), step):\n",
    "        season = seasons[i]\n",
    "        training = data[data[\"season\"] < season]\n",
    "        test = data[data[\"season\"] == season]\n",
    "        model.fit(training[predictors], training[\"target\"])\n",
    "        prediction = model.predict(test[predictors])\n",
    "        prediction = pd.Series(prediction, index=test.index)\n",
    "        combined = pd.concat([test[\"target\"], prediction], axis=1)\n",
    "        combined.columns = [\"actual\", \"prediction\"]\n",
    "        predictions.append(combined)\n",
    "    return pd.concat(predictions)"
   ]
  },
  {
   "cell_type": "code",
   "execution_count": 286,
   "id": "be13f098-6194-4089-8c92-d5ff5759b0fa",
   "metadata": {},
   "outputs": [],
   "source": [
    "predictions = backtest(data_frame, ridge, predictors)"
   ]
  },
  {
   "cell_type": "code",
   "execution_count": 287,
   "id": "ace59f0f-2ce3-41e8-b3c6-2cc6aaed78d1",
   "metadata": {},
   "outputs": [
    {
     "data": {
      "text/plain": [
       "0.5330611591418508"
      ]
     },
     "execution_count": 287,
     "metadata": {},
     "output_type": "execute_result"
    }
   ],
   "source": [
    "from sklearn.metrics import accuracy_score\n",
    "\n",
    "\n",
    "predictions = predictions[predictions[\"actual\"] != 2]\n",
    "accuracy_score(predictions[\"actual\"], predictions[\"prediction\"])"
   ]
  },
  {
   "cell_type": "code",
   "execution_count": 288,
   "id": "50a9a51c-c22c-4762-bb4c-da23b2fbd5c4",
   "metadata": {},
   "outputs": [
    {
     "name": "stderr",
     "output_type": "stream",
     "text": [
      "C:\\Users\\sidhu\\AppData\\Local\\Temp\\ipykernel_16500\\131860665.py:1: DeprecationWarning: DataFrameGroupBy.apply operated on the grouping columns. This behavior is deprecated, and in a future version of pandas the grouping columns will be excluded from the operation. Either pass `include_groups=False` to exclude the groupings or explicitly select the grouping columns after groupby to silence this warning.\n",
      "  data_frame.groupby(\"home\").apply(lambda x: x[x[\"won\"]==1].shape[0] /x.shape[0])\n"
     ]
    },
    {
     "data": {
      "text/plain": [
       "home\n",
       "-1.0    0.428314\n",
       " 1.0    0.571686\n",
       "dtype: float64"
      ]
     },
     "execution_count": 288,
     "metadata": {},
     "output_type": "execute_result"
    }
   ],
   "source": [
    "data_frame.groupby(\"home\").apply(lambda x: x[x[\"won\"]==1].shape[0] /x.shape[0])"
   ]
  },
  {
   "cell_type": "code",
   "execution_count": 289,
   "id": "1c432150-e484-4280-8939-1945b2176404",
   "metadata": {},
   "outputs": [],
   "source": [
    "data_frame_rolling = data_frame[list(selected_columns) + [\"won\", \"team\", \"season\"]]"
   ]
  },
  {
   "cell_type": "code",
   "execution_count": 290,
   "id": "db6ea1e0-a689-4245-a2be-8e0b04b5eae7",
   "metadata": {},
   "outputs": [],
   "source": [
    "import numpy as np"
   ]
  },
  {
   "cell_type": "code",
   "execution_count": 291,
   "id": "9b11fa35-f58d-4ea0-a0e9-421fcfe52d6d",
   "metadata": {},
   "outputs": [
    {
     "name": "stderr",
     "output_type": "stream",
     "text": [
      "C:\\Users\\sidhu\\AppData\\Local\\Temp\\ipykernel_16500\\418993166.py:1: SettingWithCopyWarning: \n",
      "A value is trying to be set on a copy of a slice from a DataFrame.\n",
      "Try using .loc[row_indexer,col_indexer] = value instead\n",
      "\n",
      "See the caveats in the documentation: https://pandas.pydata.org/pandas-docs/stable/user_guide/indexing.html#returning-a-view-versus-a-copy\n",
      "  data_frame_rolling['won'] = data_frame_rolling['won'].astype(int)\n",
      "C:\\Users\\sidhu\\AppData\\Local\\Temp\\ipykernel_16500\\418993166.py:8: DeprecationWarning: DataFrameGroupBy.apply operated on the grouping columns. This behavior is deprecated, and in a future version of pandas the grouping columns will be excluded from the operation. Either pass `include_groups=False` to exclude the groupings or explicitly select the grouping columns after groupby to silence this warning.\n",
      "  data_frame_rolling = data_frame_rolling.groupby([\"team\", \"season\"], group_keys=False).apply(find_team_averages)\n"
     ]
    }
   ],
   "source": [
    "data_frame_rolling['won'] = data_frame_rolling['won'].astype(int)\n",
    "def find_team_averages(team):\n",
    "    numeric_team = team.select_dtypes(include=[np.number])\n",
    "    rolling = numeric_team.rolling(10).mean()\n",
    "    return rolling\n",
    "\n",
    "\n",
    "data_frame_rolling = data_frame_rolling.groupby([\"team\", \"season\"], group_keys=False).apply(find_team_averages)"
   ]
  },
  {
   "cell_type": "code",
   "execution_count": 292,
   "id": "39236852-4f81-4c57-be01-fbb9a03d28a1",
   "metadata": {},
   "outputs": [],
   "source": [
    "rolling_columns = [f\"{column}_10\" for column in data_frame_rolling.columns]\n",
    "data_frame_rolling.columns = rolling_columns\n",
    "\n",
    "data_frame = pd.concat([data_frame, data_frame_rolling], axis=1)"
   ]
  },
  {
   "cell_type": "code",
   "execution_count": 293,
   "id": "ed50fa3d-1995-48ba-b2ad-801b87f67e83",
   "metadata": {},
   "outputs": [],
   "source": [
    "data_frame = data_frame.dropna()"
   ]
  },
  {
   "cell_type": "code",
   "execution_count": 294,
   "id": "cc93f2c4-0826-41c7-b7a4-e6272dee8a95",
   "metadata": {},
   "outputs": [
    {
     "name": "stderr",
     "output_type": "stream",
     "text": [
      "C:\\Users\\sidhu\\AppData\\Local\\Temp\\ipykernel_16500\\242433026.py:6: DeprecationWarning: DataFrameGroupBy.apply operated on the grouping columns. This behavior is deprecated, and in a future version of pandas the grouping columns will be excluded from the operation. Either pass `include_groups=False` to exclude the groupings or explicitly select the grouping columns after groupby to silence this warning.\n",
      "  return data_frame.groupby(\"team\", group_keys=False).apply(lambda x: shift_column(x, column_name))\n",
      "C:\\Users\\sidhu\\AppData\\Local\\Temp\\ipykernel_16500\\242433026.py:6: DeprecationWarning: DataFrameGroupBy.apply operated on the grouping columns. This behavior is deprecated, and in a future version of pandas the grouping columns will be excluded from the operation. Either pass `include_groups=False` to exclude the groupings or explicitly select the grouping columns after groupby to silence this warning.\n",
      "  return data_frame.groupby(\"team\", group_keys=False).apply(lambda x: shift_column(x, column_name))\n",
      "C:\\Users\\sidhu\\AppData\\Local\\Temp\\ipykernel_16500\\242433026.py:6: DeprecationWarning: DataFrameGroupBy.apply operated on the grouping columns. This behavior is deprecated, and in a future version of pandas the grouping columns will be excluded from the operation. Either pass `include_groups=False` to exclude the groupings or explicitly select the grouping columns after groupby to silence this warning.\n",
      "  return data_frame.groupby(\"team\", group_keys=False).apply(lambda x: shift_column(x, column_name))\n"
     ]
    }
   ],
   "source": [
    "def shift_column(team, column_name):\n",
    "    next_column = team[column_name].shift(-1)\n",
    "    return next_column\n",
    "\n",
    "def add_column(data_frame, column_name):\n",
    "    return data_frame.groupby(\"team\", group_keys=False).apply(lambda x: shift_column(x, column_name))\n",
    "\n",
    "data_frame[\"home_next\"] = add_column(data_frame, \"home\")\n",
    "data_frame[\"team_opp_next\"] = add_column(data_frame, \"team_opp\")\n",
    "data_frame[\"date_next\"] = add_column(data_frame, \"date\")"
   ]
  },
  {
   "cell_type": "code",
   "execution_count": 295,
   "id": "7e7adee2-15a8-4e94-8562-3faaa02c5b7d",
   "metadata": {},
   "outputs": [],
   "source": [
    "data_frame = data_frame.copy()"
   ]
  },
  {
   "cell_type": "code",
   "execution_count": 296,
   "id": "baeed6b1-f064-475b-bc8e-c5c770c1a253",
   "metadata": {},
   "outputs": [],
   "source": [
    "full = data_frame.merge(data_frame[rolling_columns + [\"team_opp_next\", \"date_next\", \"team\"]], \n",
    "        left_on = [\"team\", \"date_next\"], right_on=[\"team_opp_next\", \"date_next\"])"
   ]
  },
  {
   "cell_type": "code",
   "execution_count": 297,
   "id": "180c770e-8106-4871-a58e-05d68a3660a6",
   "metadata": {},
   "outputs": [
    {
     "data": {
      "text/html": [
       "<div>\n",
       "<style scoped>\n",
       "    .dataframe tbody tr th:only-of-type {\n",
       "        vertical-align: middle;\n",
       "    }\n",
       "\n",
       "    .dataframe tbody tr th {\n",
       "        vertical-align: top;\n",
       "    }\n",
       "\n",
       "    .dataframe thead th {\n",
       "        text-align: right;\n",
       "    }\n",
       "</style>\n",
       "<table border=\"1\" class=\"dataframe\">\n",
       "  <thead>\n",
       "    <tr style=\"text-align: right;\">\n",
       "      <th></th>\n",
       "      <th>team_x</th>\n",
       "      <th>team_opp_next_x</th>\n",
       "      <th>team_y</th>\n",
       "      <th>team_opp_next_y</th>\n",
       "      <th>date_next</th>\n",
       "    </tr>\n",
       "  </thead>\n",
       "  <tbody>\n",
       "    <tr>\n",
       "      <th>0</th>\n",
       "      <td>SAC</td>\n",
       "      <td>TOR</td>\n",
       "      <td>TOR</td>\n",
       "      <td>SAC</td>\n",
       "      <td>2015-11-15</td>\n",
       "    </tr>\n",
       "    <tr>\n",
       "      <th>1</th>\n",
       "      <td>TOR</td>\n",
       "      <td>SAC</td>\n",
       "      <td>SAC</td>\n",
       "      <td>TOR</td>\n",
       "      <td>2015-11-15</td>\n",
       "    </tr>\n",
       "    <tr>\n",
       "      <th>2</th>\n",
       "      <td>CLE</td>\n",
       "      <td>DET</td>\n",
       "      <td>DET</td>\n",
       "      <td>CLE</td>\n",
       "      <td>2015-11-17</td>\n",
       "    </tr>\n",
       "    <tr>\n",
       "      <th>3</th>\n",
       "      <td>GSW</td>\n",
       "      <td>TOR</td>\n",
       "      <td>TOR</td>\n",
       "      <td>GSW</td>\n",
       "      <td>2015-11-17</td>\n",
       "    </tr>\n",
       "    <tr>\n",
       "      <th>4</th>\n",
       "      <td>DEN</td>\n",
       "      <td>NOP</td>\n",
       "      <td>NOP</td>\n",
       "      <td>DEN</td>\n",
       "      <td>2015-11-17</td>\n",
       "    </tr>\n",
       "    <tr>\n",
       "      <th>...</th>\n",
       "      <td>...</td>\n",
       "      <td>...</td>\n",
       "      <td>...</td>\n",
       "      <td>...</td>\n",
       "      <td>...</td>\n",
       "    </tr>\n",
       "    <tr>\n",
       "      <th>15769</th>\n",
       "      <td>BOS</td>\n",
       "      <td>GSW</td>\n",
       "      <td>GSW</td>\n",
       "      <td>BOS</td>\n",
       "      <td>2022-06-10</td>\n",
       "    </tr>\n",
       "    <tr>\n",
       "      <th>15770</th>\n",
       "      <td>GSW</td>\n",
       "      <td>BOS</td>\n",
       "      <td>BOS</td>\n",
       "      <td>GSW</td>\n",
       "      <td>2022-06-13</td>\n",
       "    </tr>\n",
       "    <tr>\n",
       "      <th>15771</th>\n",
       "      <td>BOS</td>\n",
       "      <td>GSW</td>\n",
       "      <td>GSW</td>\n",
       "      <td>BOS</td>\n",
       "      <td>2022-06-13</td>\n",
       "    </tr>\n",
       "    <tr>\n",
       "      <th>15772</th>\n",
       "      <td>GSW</td>\n",
       "      <td>BOS</td>\n",
       "      <td>BOS</td>\n",
       "      <td>GSW</td>\n",
       "      <td>2022-06-16</td>\n",
       "    </tr>\n",
       "    <tr>\n",
       "      <th>15773</th>\n",
       "      <td>BOS</td>\n",
       "      <td>GSW</td>\n",
       "      <td>GSW</td>\n",
       "      <td>BOS</td>\n",
       "      <td>2022-06-16</td>\n",
       "    </tr>\n",
       "  </tbody>\n",
       "</table>\n",
       "<p>15774 rows × 5 columns</p>\n",
       "</div>"
      ],
      "text/plain": [
       "      team_x team_opp_next_x team_y team_opp_next_y   date_next\n",
       "0        SAC             TOR    TOR             SAC  2015-11-15\n",
       "1        TOR             SAC    SAC             TOR  2015-11-15\n",
       "2        CLE             DET    DET             CLE  2015-11-17\n",
       "3        GSW             TOR    TOR             GSW  2015-11-17\n",
       "4        DEN             NOP    NOP             DEN  2015-11-17\n",
       "...      ...             ...    ...             ...         ...\n",
       "15769    BOS             GSW    GSW             BOS  2022-06-10\n",
       "15770    GSW             BOS    BOS             GSW  2022-06-13\n",
       "15771    BOS             GSW    GSW             BOS  2022-06-13\n",
       "15772    GSW             BOS    BOS             GSW  2022-06-16\n",
       "15773    BOS             GSW    GSW             BOS  2022-06-16\n",
       "\n",
       "[15774 rows x 5 columns]"
      ]
     },
     "execution_count": 297,
     "metadata": {},
     "output_type": "execute_result"
    }
   ],
   "source": [
    "full[[\"team_x\", \"team_opp_next_x\", \"team_y\", \"team_opp_next_y\", \"date_next\"]]"
   ]
  },
  {
   "cell_type": "code",
   "execution_count": 298,
   "id": "c10c3ada-7942-493c-94c4-179622c57975",
   "metadata": {},
   "outputs": [],
   "source": [
    "removed_columns = list(full.columns[full.dtypes == \"object\"]) + removed_columns"
   ]
  },
  {
   "cell_type": "code",
   "execution_count": 299,
   "id": "bc855956-ee5f-4574-a78b-a067a40e0ebd",
   "metadata": {},
   "outputs": [],
   "source": [
    "selected_columns = full.columns[~full.columns.isin(removed_columns)]"
   ]
  },
  {
   "cell_type": "code",
   "execution_count": 300,
   "id": "1803e19e-4f46-4d00-a2a1-710b2bffa35f",
   "metadata": {},
   "outputs": [],
   "source": [
    "predictors = selected_columns"
   ]
  },
  {
   "cell_type": "code",
   "execution_count": 301,
   "id": "258e886d-047b-44df-bee1-cc0c21a2c894",
   "metadata": {},
   "outputs": [],
   "source": [
    "predictions = backtest(full, ridge, predictors)"
   ]
  },
  {
   "cell_type": "code",
   "execution_count": 302,
   "id": "637498fd-d531-4cbe-a5de-504a0326ee2c",
   "metadata": {},
   "outputs": [
    {
     "name": "stdout",
     "output_type": "stream",
     "text": [
      "Accuracy: 61.124628277912954%\n",
      "\n",
      "\n",
      "Classification Report:\n",
      "              precision    recall  f1-score   support\n",
      "\n",
      "           0       0.61      0.61      0.61      5553\n",
      "           1       0.61      0.61      0.61      5544\n",
      "\n",
      "    accuracy                           0.61     11097\n",
      "   macro avg       0.61      0.61      0.61     11097\n",
      "weighted avg       0.61      0.61      0.61     11097\n",
      "\n",
      "\n",
      "\n",
      "Confusion Matrix:\n",
      "[[3412 2141]\n",
      " [2173 3371]]\n"
     ]
    }
   ],
   "source": [
    "from sklearn.metrics import classification_report, confusion_matrix, roc_auc_score\n",
    "\n",
    "accuracy = accuracy_score(predictions[\"actual\"], predictions[\"prediction\"])\n",
    "print(f\"Accuracy: {accuracy*100}%\")\n",
    "\n",
    "print(\"\\n\")\n",
    "\n",
    "print(\"Classification Report:\")\n",
    "print(classification_report(predictions[\"actual\"], predictions[\"prediction\"]))\n",
    "\n",
    "print(\"\\n\")\n",
    "\n",
    "print(\"Confusion Matrix:\")\n",
    "print(confusion_matrix(predictions[\"actual\"], predictions[\"prediction\"]))\n",
    "\n"
   ]
  },
  {
   "cell_type": "code",
   "execution_count": null,
   "id": "e4bf2b84-be7c-46f5-abdb-60ab0755f711",
   "metadata": {},
   "outputs": [],
   "source": []
  }
 ],
 "metadata": {
  "kernelspec": {
   "display_name": "Python 3 (ipykernel)",
   "language": "python",
   "name": "python3"
  },
  "language_info": {
   "codemirror_mode": {
    "name": "ipython",
    "version": 3
   },
   "file_extension": ".py",
   "mimetype": "text/x-python",
   "name": "python",
   "nbconvert_exporter": "python",
   "pygments_lexer": "ipython3",
   "version": "3.12.4"
  }
 },
 "nbformat": 4,
 "nbformat_minor": 5
}
